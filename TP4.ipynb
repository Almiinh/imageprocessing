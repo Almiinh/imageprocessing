{
 "cells": [
  {
   "cell_type": "code",
   "execution_count": null,
   "metadata": {},
   "outputs": [],
   "source": [
    "import imageio.v3 as iio\n",
    "import matplotlib.pyplot as plt\n",
    "import numpy as np\n",
    "from scipy.ndimage import zoom, rotate\n",
    "from scipy import signal"
   ]
  },
  {
   "attachments": {},
   "cell_type": "markdown",
   "metadata": {},
   "source": [
    "# 6. Image Restoration : deconvolution"
   ]
  },
  {
   "cell_type": "code",
   "execution_count": null,
   "metadata": {},
   "outputs": [],
   "source": [
    "s = 8\n",
    "board = np.kron([ [1, 0]* 4, [0, 1]*4 ]*4, np.ones((s,s)))\n",
    "checkerboard = zoom(board, (8, 8), order=0)\n",
    "checkerboard = checkerboard.astype(np.float32) / 255.0\n",
    "\n",
    "plt.imshow(checkerboard, 'gray')\n",
    "plt.axis('off')\n",
    "plt.title('Checkerboard')"
   ]
  },
  {
   "cell_type": "code",
   "execution_count": null,
   "metadata": {},
   "outputs": [],
   "source": [
    "# Define the size and direction of the motion blur\n",
    "size = 10\n",
    "direction = np.array([1, 1])\n",
    "\n",
    "# Create a 2D array with a single row of ones in the center\n",
    "kernel = np.zeros((size, size))\n",
    "center = int((size - 1) / 2)\n",
    "kernel[center, :] = np.ones(size)\n",
    "\n",
    "# Normalize the kernel so that its sum is 1\n",
    "kernel /= np.sum(kernel)\n",
    "\n",
    "# Rotate the kernel to create the motion blur in the specified direction\n",
    "kernel = rotate(kernel, np.rad2deg(np.arctan2(direction[1], direction[0])) - 90, reshape=False)\n",
    "\n",
    "# Generate a PSF by convolving the kernel with itself\n",
    "psf = signal.convolve2d(kernel, kernel)\n",
    "\n",
    "# Normalize the PSF so that its sum is 1\n",
    "psf /= np.sum(psf)"
   ]
  },
  {
   "cell_type": "code",
   "execution_count": null,
   "metadata": {},
   "outputs": [],
   "source": [
    "def addGaussianNoise(I , sigma=1000):\n",
    "    \"\"\"\n",
    "    Adds Gaussian noise to an image\n",
    "    I: original image\n",
    "    sigma: signal / noise ratio\n",
    "    \"\"\"\n",
    "    I2 = I.copy()\n",
    "    m=np.min(I)\n",
    "    M=np.max(I)\n",
    "    N = (M-m)/sigma*np.random.randn(I.shape[0], I .shape[1]) ;\n",
    "    I2 = I2 + N\n",
    "    I2 [I2>M] = M\n",
    "    I2 [I2<m] = m\n",
    "    return I2 , I - I2"
   ]
  },
  {
   "cell_type": "code",
   "execution_count": null,
   "metadata": {},
   "outputs": [],
   "source": [
    "Cb = signal.convolve2d(checkerboard, psf2otf(psf,(8,8)) , boundary='wrap', mode='same');\n",
    "plt.imshow(Cb, cmap='gray')\n",
    "plt.title ('Motion blur + Gaussian noise on checkerboard')\n",
    "plt.show()"
   ]
  },
  {
   "cell_type": "code",
   "execution_count": null,
   "metadata": {},
   "outputs": [],
   "source": [
    "Cb = signal.convolve2d(checkerboard, psf , boundary='wrap', mode='same');\n",
    "Cbn, noise = addGaussianNoise(Cb)\n",
    "plt.imshow(Cb, cmap='gray')\n",
    "plt.title ('Motion blur + Gaussian noise on checkerboard')\n",
    "plt.show()"
   ]
  },
  {
   "cell_type": "code",
   "execution_count": null,
   "metadata": {},
   "outputs": [],
   "source": [
    "def psf2otf ( psf , s ) :\n",
    "    \"\"\"\n",
    "    Get OTF (Optical Transfer Function) from PSF ( Point Spread Function)\n",
    "    OTF is basically the Fourier Transform of the PSF, centered\n",
    "    psf : PSF\n",
    "    s : shape of the result , zero-padding is used to center is Fourier Transform\n",
    "    \"\"\"\n",
    "    sh = psf .shape;\n",
    "    sh = np.array (sh) ;\n",
    "    s = np.array ( s ) ;\n",
    "    pad = s - sh;\n",
    "    h = np.pad(psf , ((0, pad[0]) , (0, pad[1]) ) , mode='constant') ;\n",
    "    shift = ( int (pad[0]/2+1) , int (pad[1]/2+1) ) ;\n",
    "    h_centered = np. roll (h, tuple ( shift ) , axis =(0,1) ) ;\n",
    "    h_centered = np. fft . fftshift (h_centered) ;\n",
    "    H = np. fft . fft2 (h_centered, s ) ;\n",
    "    H = np. real (H);\n",
    "    return H;"
   ]
  },
  {
   "cell_type": "code",
   "execution_count": null,
   "metadata": {},
   "outputs": [],
   "source": [
    "H = psf2otf(psf , checkerboard.shape) ;\n",
    "G = np. fft . fft2 (Cb);\n",
    "alpha = 0.001;\n",
    "F = G / (H+alpha);\n",
    "fr = np. real (np. fft . ifft2 (F) ) ;\n",
    "plt .imshow(fr,'gray');\n",
    "plt . title ( 'Noiseless (only motion blur ) direct reconstruction ' )\n",
    "plt .show()"
   ]
  }
 ],
 "metadata": {
  "kernelspec": {
   "display_name": "base",
   "language": "python",
   "name": "python3"
  },
  "language_info": {
   "codemirror_mode": {
    "name": "ipython",
    "version": 3
   },
   "file_extension": ".py",
   "mimetype": "text/x-python",
   "name": "python",
   "nbconvert_exporter": "python",
   "pygments_lexer": "ipython3",
   "version": "3.10.9"
  },
  "orig_nbformat": 4
 },
 "nbformat": 4,
 "nbformat_minor": 2
}
